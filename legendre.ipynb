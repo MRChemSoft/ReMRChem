{
 "cells": [
  {
   "cell_type": "code",
   "execution_count": 1,
   "metadata": {},
   "outputs": [],
   "source": [
    "from vampyr import vampyr3d as vp\n",
    "from orbital4c import orbital as orb\n",
    "import numpy as np\n",
    "import importlib\n",
    "importlib.reload(orb)\n",
    "from scipy.special import legendre, laguerre, erf, gamma\n",
    "from scipy.special import gamma\n",
    "from scipy.constants import hbar\n",
    "import matplotlib.pyplot as plt"
   ]
  },
  {
   "cell_type": "code",
   "execution_count": 2,
   "metadata": {},
   "outputs": [],
   "source": [
    "P0 = legendre(0)\n",
    "P1 = legendre(1)\n",
    "P2 = legendre(2)\n",
    "P3 = legendre(4)"
   ]
  },
  {
   "cell_type": "code",
   "execution_count": 4,
   "metadata": {},
   "outputs": [
    {
     "data": {
      "text/plain": [
       "[<matplotlib.lines.Line2D at 0x7fac0a1eba30>,\n",
       " <matplotlib.lines.Line2D at 0x7fac0a1eba90>,\n",
       " <matplotlib.lines.Line2D at 0x7fac0a1ebbb0>]"
      ]
     },
     "execution_count": 4,
     "metadata": {},
     "output_type": "execute_result"
    },
    {
     "data": {
      "image/png": "[encoded data removed]",
      "text/plain": [
       "<Figure size 432x288 with 1 Axes>"
      ]
     },
     "metadata": {
      "needs_background": "light"
     },
     "output_type": "display_data"
    }
   ],
   "source": [
    "x = np.arange(-1.0,1.0,step=0.1)\n",
    "y=[P0([0.0,0.0,xi]) for xi in x]\n",
    "#y=[P1([0.0,0.0,xi]) for xi in x]\n",
    "#y=[P2([0.0,0.0,xi]) for xi in x]\n",
    "#y=[P3([0.0,0.0,xi]) for xi in x]\n",
    "plt.plot(x,y)"
   ]
  },
  {
   "cell_type": "code",
   "execution_count": null,
   "metadata": {},
   "outputs": [],
   "source": [
    "c = 1/np.sqrt(2.0)\n",
    "vp.advanced."
   ]
  }
 ],
 "metadata": {
  "interpreter": {
   "hash": "e7433c2b6e4e177ecffdd1af70995e893d23e16bb54d788a2a2d818bc9290e5d"
  },
  "kernelspec": {
   "display_name": "Python 3.10.4 ('vampyr')",
   "language": "python",
   "name": "python3"
  },
  "language_info": {
   "codemirror_mode": {
    "name": "ipython",
    "version": 3
   },
   "file_extension": ".py",
   "mimetype": "text/x-python",
   "name": "python",
   "nbconvert_exporter": "python",
   "pygments_lexer": "ipython3",
   "version": "3.10.4"
  },
  "orig_nbformat": 4
 },
 "nbformat": 4,
 "nbformat_minor": 2
}
