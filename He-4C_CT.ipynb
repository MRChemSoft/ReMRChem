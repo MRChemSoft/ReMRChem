{
 "cells": [
  {
   "cell_type": "code",
   "execution_count": 1,
   "metadata": {},
   "outputs": [
    {
     "name": "stdout",
     "output_type": "stream",
     "text": [
      "================================================================\n",
      "                    MultiResolution Analysis                    \n",
      "----------------------------------------------------------------\n",
      " polynomial order      : 7\n",
      " polynomial type       : Interpolating\n",
      "----------------------------------------------------------------\n",
      " total boxes           : 8\n",
      " boxes                 : [          2           2           2 ]\n",
      " unit lengths          : [  20.000000   20.000000   20.000000 ]\n",
      " scaling factor        : [   1.250000    1.250000    1.250000 ]\n",
      " lower bounds          : [ -20.000000  -20.000000  -20.000000 ]\n",
      " upper bounds          : [  20.000000   20.000000   20.000000 ]\n",
      " total length          : [  40.000000   40.000000   40.000000 ]\n",
      "================================================================\n",
      "\n"
     ]
    }
   ],
   "source": [
    "from vampyr import vampyr3d as vp\n",
    "import numpy as np\n",
    "\n",
    "import matplotlib.pyplot as plt\n",
    "import matplotlib.gridspec as gridspec\n",
    "\n",
    "import scipy.integrate as integrate\n",
    "from scipy.special import legendre, laguerre, erf, gamma\n",
    "from scipy.special import gamma\n",
    "from scipy.constants import hbar\n",
    "\n",
    "mra = vp.MultiResolutionAnalysis(box=[-20,20], order=7)\n",
    "prec = 1.0e-4\n",
    "origin = [0.1, 0.2, 0.3]\n",
    "\n",
    "print(mra)"
   ]
  },
  {
   "cell_type": "code",
   "execution_count": 2,
   "metadata": {},
   "outputs": [],
   "source": [
    "# He atom questa parte da rivedere\n",
    "# Normalization not considered\n",
    "# Exponential coeffcient C=1 (wikipedia coeff is not compatible with eigensolution)\n",
    "# Limited to ground state for now (some formulas are however more generic)\n",
    "# So far the best general description for the 4-c H atom was in the Bethe&Salpeter book\n",
    "\n",
    "c=137.035999\n",
    "alpha = 1.0/c\n",
    "k = -1\n",
    "l = 0\n",
    "n = 1\n",
    "m = 0.5\n",
    "Z = 2\n",
    "\n",
    "\n",
    "def compute_norm_const(n, gamma_factor):\n",
    "# THIS NORMALIZATION CONSTANT IS FROM WIKIPEDIA BUT IT DOES NOT AGREE WITH Bethe&Salpeter\n",
    "    tmp1 = 2 * n * (n + gamma_factor)\n",
    "    tmp2 = 1 / (gamma_factor * gamma(2 * gamma_factor))\n",
    "    return np.sqrt(tmp2/tmp1)\n",
    "\n"
   ]
  },
  {
   "cell_type": "code",
   "execution_count": 3,
   "metadata": {},
   "outputs": [
    {
     "name": "stdout",
     "output_type": "stream",
     "text": [
      "0.5015646537241815 -50.13357312388721\n"
     ]
    },
    {
     "data": {
      "image/png": "[encoded data removed]",
      "text/plain": [
       "<Figure size 432x288 with 1 Axes>"
      ]
     },
     "metadata": {
      "needs_background": "light"
     },
     "output_type": "display_data"
    }
   ],
   "source": [
    "def J_coulomb_n(phi_n,mra):\n",
    "    pua = vp.PoissonOperator(mra,prec=0.00001)\n",
    "    n = phi_n*phi_n\n",
    "    pua_n = pua(n)\n",
    "    return pua_n*(4*np.pi)\n",
    "\n",
    "def compute_gamma(k,Z,alpha):\n",
    "    return np.sqrt(k**2 - Z**2 * alpha**2)\n",
    "\n",
    "def compute_dirac_energy(n,Z,k,alpha):\n",
    "    gamma_factor = compute_gamma(k,Z,alpha)\n",
    "    tmp1 = n - np.abs(k) + gamma_factor\n",
    "    tmp2 = Z * alpha / tmp1\n",
    "    tmp3 = 1 + tmp2**2\n",
    "    return c**2 / np.sqrt(tmp3)\n",
    "\n",
    "def one_s_alpha(x,Z,alpha,gamma_factor):\n",
    "    r = np.sqrt(x[0]**2 + x[1]**2 + x[2]**2)\n",
    "    tmp1 = 1.0 + gamma_factor\n",
    "    tmp4 = Z * alpha\n",
    "    u = x/r\n",
    "    lar =   tmp1\n",
    "    sai =   tmp4 * u[2]\n",
    "    sbr = - tmp4 * u[1]\n",
    "    sbi =   tmp4 * u[0]\n",
    "    return lar, 0, 0, 0, 0, sai, sbr, sbi\n",
    "\n",
    "def one_s_alpha_comp(x,Z,alpha,gamma_factor,norm_const,comp):\n",
    "    r = np.sqrt(x[0]**2 + x[1]**2 + x[2]**2)\n",
    "    tmp2 = r ** (gamma_factor - 1)\n",
    "    tmp3 = np.exp(-Z*r)\n",
    "    values = one_s_alpha(x,Z,alpha,gamma_factor)\n",
    "    return values[comp] * tmp2 * tmp3 * norm_const / np.sqrt(2*np.pi)\n",
    "                \n",
    "gamma_factor = compute_gamma(k,Z,alpha)\n",
    "norm_const = compute_norm_const(n, gamma_factor)\n",
    "energy = compute_dirac_energy(n,Z,k,alpha)\n",
    "Ezora = 2*(energy-c**2)*c**2/(energy+c**2)\n",
    "print(norm_const,Ezora)\n",
    "\n",
    "x_plt = np.linspace(-1.0, 1.0, 1000)\n",
    "y_plt = [one_s_alpha_comp([x,0.0,0.0],Z,alpha,gamma_factor,norm_const,0) for x in x_plt]\n",
    "_ = plt.plot(x_plt, y_plt)\n"
   ]
  },
  {
   "cell_type": "code",
   "execution_count": 4,
   "metadata": {},
   "outputs": [
    {
     "data": {
      "text/plain": [
       "[<matplotlib.lines.Line2D at 0x7fc2d09a7430>]"
      ]
     },
     "execution_count": 4,
     "metadata": {},
     "output_type": "execute_result"
    },
    {
     "data": {
      "image/png": "[encoded data removed]",
      "text/plain": [
       "<Figure size 432x288 with 1 Axes>"
      ]
     },
     "metadata": {
      "needs_background": "light"
     },
     "output_type": "display_data"
    }
   ],
   "source": [
    "def u(r):\n",
    "    u = erf(r)/r + (1/(3*np.sqrt(np.pi)))*(np.exp(-(r**2)) + 16*np.exp(-4*r**2))\n",
    "    #erf(r) is an error function that is supposed to stop the potential well from going to inf.\n",
    "    #if i remember correctly\n",
    "    return u\n",
    "\n",
    "def V(x):\n",
    "    r = np.sqrt(x[0]**2 + x[1]**2 + x[2]**2)\n",
    "#    c = 0.0435\n",
    "    c = 0.000435 # ten times tighter nuclear potential\n",
    "    f_bar = u(r/c)/c\n",
    "    return f_bar\n",
    "\n",
    "def kappa(x):\n",
    "    temp = V(x) / (2 * c**2)\n",
    "    return 1.0/(1-temp)\n",
    "\n",
    "def one_m_kappa(x):\n",
    "    temp = (2 * c**2) / V(x)\n",
    "    return 1.0/(1-temp)\n",
    "\n",
    "x_plt = np.linspace(-0.01, 0.01, 1000)\n",
    "y1_plt = [kappa([x, 0.0, 0.0])-1 for x in x_plt]\n",
    "y2_plt = [one_m_kappa([x, 0.0, 0.0]) for x in x_plt]\n",
    "plt.plot(x_plt, y1_plt)\n",
    "plt.plot(x_plt, y2_plt)"
   ]
  },
  {
   "cell_type": "code",
   "execution_count": 5,
   "metadata": {},
   "outputs": [
    {
     "name": "stdout",
     "output_type": "stream",
     "text": [
      "1.8569533817705184\n"
     ]
    }
   ],
   "source": [
    "Peps = vp.ScalingProjector(mra,prec)\n",
    "f = lambda x: V([x[0]-origin[0],x[1]-origin[1],x[2]-origin[2]])\n",
    "\n",
    "print(f([0.5,0.5,0.5]))\n",
    "V_tree = Z*Peps(f)"
   ]
  },
  {
   "cell_type": "code",
   "execution_count": 6,
   "metadata": {},
   "outputs": [
    {
     "data": {
      "text/plain": [
       "[<matplotlib.lines.Line2D at 0x7fc2b8a5e5f0>]"
      ]
     },
     "execution_count": 6,
     "metadata": {},
     "output_type": "execute_result"
    },
    {
     "data": {
      "image/png": "[encoded data removed]",
      "text/plain": [
       "<Figure size 432x288 with 1 Axes>"
      ]
     },
     "metadata": {
      "needs_background": "light"
     },
     "output_type": "display_data"
    }
   ],
   "source": [
    "x_plt = np.linspace(0.0, 0.20, 1000)\n",
    "nuclear_potential_plt = [V_tree([x, 0.2, 0.3]) for x in x_plt]\n",
    "plt.plot(x_plt, nuclear_potential_plt)"
   ]
  },
  {
   "cell_type": "code",
   "execution_count": 7,
   "metadata": {},
   "outputs": [
    {
     "data": {
      "text/plain": [
       "[<matplotlib.lines.Line2D at 0x7fc2b8acf700>]"
      ]
     },
     "execution_count": 7,
     "metadata": {},
     "output_type": "execute_result"
    },
    {
     "data": {
      "image/png": "[encoded data removed]",
      "text/plain": [
       "<Figure size 432x288 with 1 Axes>"
      ]
     },
     "metadata": {
      "needs_background": "light"
     },
     "output_type": "display_data"
    }
   ],
   "source": [
    "a_coeff = 3.0\n",
    "b_coeff = np.sqrt(a_coeff/np.pi)**3\n",
    "gauss = vp.GaussFunc(b_coeff, a_coeff, origin)\n",
    "gauss_tree = vp.FunctionTree(mra)\n",
    "vp.advanced.build_grid(out=gauss_tree, inp=gauss)\n",
    "vp.advanced.project(prec=prec, out=gauss_tree, inp=gauss)\n",
    "gauss_tree.normalize()\n",
    "\n",
    "x_plt = np.linspace(-0.5, 0.5, 1000)\n",
    "y_plt = [gauss_tree([x, 0.2, 0.3]) for x in x_plt]\n",
    "plt.plot(x_plt, y_plt)"
   ]
  },
  {
   "cell_type": "code",
   "execution_count": 9,
   "metadata": {},
   "outputs": [
    {
     "name": "stdout",
     "output_type": "stream",
     "text": [
      "Energy  -1.1123261789933327 0.41232617899333285\n",
      "Energy  -1.9219430578502839 0.8096168788569512\n",
      "Energy  -3.6763647421149717 1.7544216842646876\n",
      "Energy  -5.6712495719771425 1.9948848298621704\n",
      "Energy  -10.247896965447824 4.576647393470681\n",
      "Energy  -20.03403932840443 9.786142362956605\n",
      "Energy  -37.49563235991907 17.46159303151464\n",
      "Energy  -45.91794809398547 8.422315734066403\n",
      "Energy  -51.308101080849895 5.3901529868644245\n",
      "Energy  -54.10215939442978 2.794058313579891\n",
      "Energy  -55.38492922122408 1.2827698267942966\n",
      "Energy  -55.94561396495829 0.5606847437342127\n",
      "Energy  -56.19291417146892 0.2473002065106317\n",
      "Energy  -56.30658676341554 0.11367259194661788\n",
      "Energy  -56.361386920893466 0.05480015747792883\n",
      "Energy  -56.38885899776519 0.027472076871726477\n",
      "Energy  -56.403006778825976 0.014147781060788232\n",
      "Energy  -56.41041565020969 0.007408871383718104\n",
      "Energy  -56.41433395058848 0.00391830037878504\n",
      "Energy  -56.416417916498936 0.002083965910456138\n",
      "Energy  -56.417529820352804 0.0011119038538673681\n",
      "Energy  -56.41812411455159 0.0005942941987870719\n",
      "Energy  -56.418442074425414 0.00031795987382820536\n",
      "Energy  -56.418612285350626 0.00017021092521262652\n",
      "Energy  -56.4187034318396 9.114648897702464e-05\n",
      "Energy  -56.41875224861611 4.881677650653071e-05\n",
      "Energy  -56.41877839685741 2.61482413072437e-05\n",
      "Energy  -56.41879240373274 1.400687532785826e-05\n",
      "Energy  -56.418799907074515 7.503341774591892e-06\n"
     ]
    },
    {
     "data": {
      "image/png": "[encoded data removed]",
      "text/plain": [
       "<Figure size 432x288 with 1 Axes>"
      ]
     },
     "metadata": {
      "needs_background": "light"
     },
     "output_type": "display_data"
    }
   ],
   "source": [
    "energy = -0.70;\n",
    "energy_correction = 1.0;\n",
    "\n",
    "phi_n = vp.FunctionTree(mra)\n",
    "vp.advanced.copy_grid(phi_n, gauss_tree)\n",
    "vp.advanced.copy_func(phi_n, gauss_tree)\n",
    "phi_n.normalize()\n",
    "#print(phi_n)\n",
    "\n",
    "while np.abs(energy_correction) > prec/10:\n",
    "    phi_n.normalize()\n",
    "    phi_np1 = vp.FunctionTree(mra)\n",
    "    temp1_tree = (V_tree + J_coulomb_n(phi_n,mra)) * phi_n\n",
    "    \n",
    "    mu = np.sqrt(-2*energy)\n",
    "    \n",
    "    pua = vp.PoissonOperator(mra,prec=0.00001)\n",
    "    n = phi_n * phi_n\n",
    "    pua_n = pua(n)*(4*np.pi)\n",
    "\n",
    "    H = vp.HelmholtzOperator(mra, mu, prec)\n",
    "    phi_np1 = 2 * H(temp1_tree)\n",
    "    delta_phi = vp.FunctionTree(mra)\n",
    "    vp.advanced.add(prec/10, delta_phi, 1.0, phi_np1, -1.0, phi_n)\n",
    "    temp2_tree = delta_phi * (V_tree + J_coulomb_n(phi_n,mra))\n",
    "    \n",
    "    energy_correction = vp.dot(phi_np1, temp2_tree)/phi_np1.squaredNorm()\n",
    "    phi_n = vp.FunctionTree(mra)\n",
    "    vp.advanced.copy_grid(phi_n, phi_np1)\n",
    "    vp.advanced.copy_func(phi_n, phi_np1)\n",
    "\n",
    "    phi_n_plt = [phi_n([x, origin[1], origin[2]]) for x in x_plt]\n",
    "    plt.plot(x_plt, phi_n_plt)\n",
    "\n",
    "    while abs(energy_correction) > abs(energy): \n",
    "        energy_correction /= 2\n",
    "    \n",
    "    energy -= energy_correction\n",
    "    print(\"Energy \", energy, energy_correction)"
   ]
  },
  {
   "cell_type": "code",
   "execution_count": null,
   "metadata": {},
   "outputs": [],
   "source": [
    "exact_orbital = init_1s_orbital(k,Z,alpha,origin)"
   ]
  },
  {
   "cell_type": "code",
   "execution_count": null,
   "metadata": {},
   "outputs": [],
   "source": [
    "normalize_orbital(exact_orbital)\n",
    "print(exact_orbital['Lar']([0.1,0.2,0.3]))"
   ]
  },
  {
   "cell_type": "code",
   "execution_count": null,
   "metadata": {},
   "outputs": [],
   "source": [
    "gaussian_orbital = init_empty_orbital()\n",
    "init_large_components(gaussian_orbital,gauss_tree)\n",
    "init_small_components(gaussian_orbital)\n",
    "normalize_orbital(gaussian_orbital)\n",
    "density = compute_density(gaussian_orbital)\n",
    "x_plt = np.linspace(-1.0, 1.0, 1000)\n",
    "density_plt = [density([x, 0.2, 0.3]) for x in x_plt]\n",
    "_ = plt.plot(x_plt, density_plt)"
   ]
  },
  {
   "cell_type": "code",
   "execution_count": null,
   "metadata": {},
   "outputs": [],
   "source": [
    "orbital = gaussian_orbital\n",
    "orbital_error = 1\n",
    "while orbital_error > prec:\n",
    "#for i in range(2):    \n",
    "    hd_psi = apply_dirac_hamiltonian(orbital)\n",
    "    v_psi = apply_potential(V_tree, orbital)\n",
    "    add_psi = add_orbitals(1.0, hd_psi, 1.0, v_psi)\n",
    "    energy, imag = scalar_product(orbital, add_psi)\n",
    "    print('Energy',energy)\n",
    "    tmp = apply_helmholtz(v_psi, energy, c, prec)\n",
    "    new_orbital = apply_dirac_hamiltonian(tmp, energy)\n",
    "    normalize_orbital(new_orbital)\n",
    "    delta_psi = add_orbitals(1.0, new_orbital, -1.0, orbital)\n",
    "    orbital_error, imag = scalar_product(delta_psi, delta_psi)\n",
    "    print('Error',orbital_error)\n",
    "    orbital = new_orbital\n",
    "    \n",
    "\n",
    "hd_psi = apply_dirac_hamiltonian(orbital)\n",
    "v_psi = apply_potential(V_tree, orbital)\n",
    "add_psi = add_orbitals(1.0, hd_psi, 1.0, v_psi)\n",
    "energy, imag = scalar_product(orbital, add_psi)\n",
    "print('Energy',energy)"
   ]
  },
  {
   "cell_type": "code",
   "execution_count": null,
   "metadata": {},
   "outputs": [],
   "source": [
    "v_psi = apply_potential(V_tree, gaussian_orbital)\n",
    "tmp = apply_dirac_hamiltonian(v_psi, energy)\n",
    "out_orb = apply_helmholtz(tmp, energy, c, prec)\n",
    "normalize_orbital(out_orb)"
   ]
  },
  {
   "cell_type": "code",
   "execution_count": null,
   "metadata": {},
   "outputs": [],
   "source": [
    "#for comp, func in add_psi.items():\n",
    "#    if (func.getSquareNorm() > 0):\n",
    "#        refine_grid(func,1)\n",
    "\n",
    "fig, axs = plt.subplots(2,2,figsize=(10, 10))\n",
    "#axs[0,0].set_box_aspect(1)\n",
    "#axs[0,1].set_box_aspect(1)\n",
    "#axs[1,0].set_box_aspect(1)\n",
    "#axs[1,1].set_box_aspect(1)\n",
    "x_plt = np.linspace(-1, 1, 1000)\n",
    "orbital_plt = {}\n",
    "exact_plt = {}\n",
    "out_plt = {}\n",
    "orb_plt = {}\n",
    "add_psi_plt = {}\n",
    "exact_plt['Lar']   = [exact_orbital['Lar'](   [x+origin[0],   origin[1],   origin[2]]) for x in x_plt]\n",
    "exact_plt['Sai']   = [exact_orbital['Sai'](   [  origin[0],   origin[1], x+origin[2]]) for x in x_plt]\n",
    "exact_plt['Sbr']   = [exact_orbital['Sbr'](   [  origin[0], x+origin[1],   origin[2]]) for x in x_plt]\n",
    "exact_plt['Sbi']   = [exact_orbital['Sbi'](   [x+origin[0],   origin[1],   origin[2]]) for x in x_plt]\n",
    "out_plt['Lar']     = [out_orb['Lar'](         [x+origin[0],   origin[1],   origin[2]]) for x in x_plt]\n",
    "out_plt['Sai']     = [out_orb['Sai'](         [  origin[0],   origin[1], x+origin[2]]) for x in x_plt]\n",
    "out_plt['Sbr']     = [out_orb['Sbr'](         [  origin[0], x+origin[1],   origin[2]]) for x in x_plt]\n",
    "out_plt['Sbi']     = [out_orb['Sbi'](         [x+origin[0],   origin[1],   origin[2]]) for x in x_plt]\n",
    "orb_plt['Lar']     = [orbital['Lar'](         [x+origin[0],   origin[1],   origin[2]]) for x in x_plt]\n",
    "orb_plt['Sai']     = [orbital['Sai'](         [  origin[0],   origin[1], x+origin[2]]) for x in x_plt]\n",
    "orb_plt['Sbr']     = [orbital['Sbr'](         [  origin[0], x+origin[1],   origin[2]]) for x in x_plt]\n",
    "orb_plt['Sbi']     = [orbital['Sbi'](         [x+origin[0],   origin[1],   origin[2]]) for x in x_plt]\n",
    "orbital_plt['Lar'] = [gaussian_orbital['Lar']([x+origin[0],   origin[1],   origin[2]]) for x in x_plt]\n",
    "orbital_plt['Sai'] = [gaussian_orbital['Sai']([  origin[0],   origin[1], x+origin[2]]) for x in x_plt]\n",
    "orbital_plt['Sbr'] = [gaussian_orbital['Sbr']([  origin[0], x+origin[1],   origin[2]]) for x in x_plt]\n",
    "orbital_plt['Sbi'] = [gaussian_orbital['Sbi']([x+origin[0],   origin[1],   origin[2]]) for x in x_plt]\n",
    "add_psi_plt['Lar'] = [add_psi['Lar'](         [x+origin[0],   origin[1],   origin[2]]) for x in x_plt]\n",
    "add_psi_plt['Sai'] = [add_psi['Sai'](         [  origin[0],   origin[1], x+origin[2]]) for x in x_plt]\n",
    "add_psi_plt['Sbr'] = [add_psi['Sbr'](         [  origin[0], x+origin[1],   origin[2]]) for x in x_plt]\n",
    "add_psi_plt['Sbi'] = [add_psi['Sbi'](         [x+origin[0],   origin[1],   origin[2]]) for x in x_plt]\n",
    "#plt.plot(x_plt, [add_psi_plt['Lar'][i]/orbital_plt['Lar'][i] for i in range(1000)])\n",
    "#axs[0,0].plot(x_plt, add_psi_plt['Lar'],label='add_psi')\n",
    "#axs[0,0].plot(x_plt, orbital_plt['Lar'],label='gaussian')\n",
    "axs[0,0].plot(x_plt, exact_plt['Lar'],label='exact')\n",
    "#axs[0,0].plot(x_plt, out_plt['Lar'],label='out (1 iter)')\n",
    "axs[0,0].plot(x_plt, orb_plt['Lar'],label='out (err 10^-4)')\n",
    "axs[0,0].legend()\n",
    "#axs[0,1].plot(x_plt, add_psi_plt['Sai'],label='add_psi')\n",
    "#axs[0,1].plot(x_plt, orbital_plt['Sai'],label='gaussian')\n",
    "axs[0,1].plot(x_plt, exact_plt['Sai'],label='exact')\n",
    "#axs[0,1].plot(x_plt, out_plt['Sai'],label='out (1 iter)')\n",
    "axs[0,1].plot(x_plt, orb_plt['Sai'],label='out (err 10^-4)')\n",
    "axs[0,1].legend()\n",
    "#axs[1,0].plot(x_plt, add_psi_plt['Sbr'],label='add_psi')\n",
    "#axs[1,0].plot(x_plt, orbital_plt['Sbr'],label='gaussian')\n",
    "axs[1,0].plot(x_plt, exact_plt['Sbr'],label='exact')\n",
    "#axs[1,0].plot(x_plt, out_plt['Sbr'],label='out (1 iter)')\n",
    "axs[1,0].plot(x_plt, orb_plt['Sbr'],label='out (err 10^-4)')\n",
    "axs[1,0].legend()\n",
    "#axs[1,1].plot(x_plt, add_psi_plt['Sbi'],label='add_psi')\n",
    "#axs[1,1].plot(x_plt, orbital_plt['Sbi'],label='gaussian')\n",
    "axs[1,1].plot(x_plt, exact_plt['Sbi'],label='exact')\n",
    "#axs[1,1].plot(x_plt, out_plt['Sbi'],label='out (1 iter)')\n",
    "axs[1,1].plot(x_plt, orb_plt['Sbi'],label='out (err 10^-4)')\n",
    "axs[1,1].legend()\n",
    "#axs[0,0].set_ylim(0, 1)\n",
    "#axs[0,1].set_ylim(-0.01, 0.01)\n",
    "#axs[1,0].set_ylim(-0.01, 0.01)\n",
    "#axs[1,1].set_ylim(-0.01, 0.01)\n",
    "#plt.plot(x_plt, y_plt)"
   ]
  },
  {
   "cell_type": "code",
   "execution_count": null,
   "metadata": {},
   "outputs": [],
   "source": [
    "hd_psi = apply_dirac_hamiltonian(orbital)\n",
    "v_psi = apply_potential(V_tree, orbital)\n",
    "add_psi = add_orbitals(1.0, hd_psi, 1.0, v_psi)\n",
    "energy, imag = scalar_product(orbital, add_psi)\n",
    "print('Converged energy',energy-c**2)\n",
    "print(orbital['Lar']([0.1,0.2,0.3]))"
   ]
  },
  {
   "cell_type": "code",
   "execution_count": null,
   "metadata": {},
   "outputs": [],
   "source": [
    "hd_psi = apply_dirac_hamiltonian(exact_orbital)\n",
    "v_psi = apply_potential(V_tree, exact_orbital)\n",
    "add_psi = add_orbitals(1.0, hd_psi, 1.0, v_psi)\n",
    "energy, imag = scalar_product(exact_orbital, add_psi)\n",
    "print('Exact energy',energy-c**2)\n",
    "print(\"Analytical energy\", compute_dirac_energy(n,Z,k,alpha)-c**2)\n",
    "print(exact_orbital['Lar']([0.1,0.2,0.3]))"
   ]
  },
  {
   "cell_type": "code",
   "execution_count": null,
   "metadata": {},
   "outputs": [],
   "source": [
    "hd_psi = apply_dirac_hamiltonian(gaussian_orbital)\n",
    "v_psi = apply_potential(V_tree, gaussian_orbital)\n",
    "add_psi = add_orbitals(1.0, hd_psi, 1.0, v_psi)\n",
    "energy, imag = scalar_product(gaussian_orbital, add_psi)\n",
    "print('Starting guess energy',energy)\n",
    "print(gaussian_orbital['Lar']([0.1,0.2,0.3]))"
   ]
  },
  {
   "cell_type": "code",
   "execution_count": null,
   "metadata": {},
   "outputs": [],
   "source": [
    "print(exact_orbital[\"Lar\"])"
   ]
  },
  {
   "cell_type": "code",
   "execution_count": null,
   "metadata": {},
   "outputs": [],
   "source": []
  },
  {
   "cell_type": "code",
   "execution_count": null,
   "metadata": {},
   "outputs": [],
   "source": []
  }
 ],
 "metadata": {
  "kernelspec": {
   "display_name": "Python 3 (ipykernel)",
   "language": "python",
   "name": "python3"
  },
  "language_info": {
   "codemirror_mode": {
    "name": "ipython",
    "version": 3
   },
   "file_extension": ".py",
   "mimetype": "text/x-python",
   "name": "python",
   "nbconvert_exporter": "python",
   "pygments_lexer": "ipython3",
   "version": "3.10.4"
  }
 },
 "nbformat": 4,
 "nbformat_minor": 4
}
