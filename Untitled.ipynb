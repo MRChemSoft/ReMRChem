{
 "cells": [
  {
   "cell_type": "code",
   "execution_count": 1,
   "id": "d1630083-f479-4329-a93d-af3769a44fb8",
   "metadata": {},
   "outputs": [],
   "source": [
    "a = (1,2)"
   ]
  },
  {
   "cell_type": "code",
   "execution_count": 2,
   "id": "74734589-99ee-421b-9a71-dcfe7ad01122",
   "metadata": {},
   "outputs": [
    {
     "name": "stdout",
     "output_type": "stream",
     "text": [
      "(1, 2)\n"
     ]
    }
   ],
   "source": [
    "print(a)"
   ]
  },
  {
   "cell_type": "code",
   "execution_count": 3,
   "id": "d394d049-9cfb-4a4b-aa44-46dbd3f535aa",
   "metadata": {},
   "outputs": [],
   "source": [
    "b,c =a"
   ]
  },
  {
   "cell_type": "code",
   "execution_count": 4,
   "id": "6fd51c34-2143-4ff2-8d57-ef48f7cbf90c",
   "metadata": {},
   "outputs": [
    {
     "name": "stdout",
     "output_type": "stream",
     "text": [
      "1\n"
     ]
    }
   ],
   "source": [
    "print(b)"
   ]
  },
  {
   "cell_type": "code",
   "execution_count": 5,
   "id": "3d40379b-b56b-429e-99cc-7301b83afb18",
   "metadata": {},
   "outputs": [
    {
     "name": "stdout",
     "output_type": "stream",
     "text": [
      "2\n"
     ]
    }
   ],
   "source": [
    "print(c)"
   ]
  },
  {
   "cell_type": "code",
   "execution_count": 6,
   "id": "cc44e1a0-af04-4ec0-918f-9beea83d2ff5",
   "metadata": {},
   "outputs": [],
   "source": [
    "from vampyr import vampyr3d as vp"
   ]
  },
  {
   "cell_type": "code",
   "execution_count": 7,
   "id": "fbc197dd-c0fa-4df8-a5de-92712efa6d5f",
   "metadata": {},
   "outputs": [
    {
     "ename": "IndentationError",
     "evalue": "unexpected indent (1871916488.py, line 2)",
     "output_type": "error",
     "traceback": [
      "\u001b[0;36m  Input \u001b[0;32mIn [7]\u001b[0;36m\u001b[0m\n\u001b[0;31m    def density(self, prec):\u001b[0m\n\u001b[0m    ^\u001b[0m\n\u001b[0;31mIndentationError\u001b[0m\u001b[0;31m:\u001b[0m unexpected indent\n"
     ]
    }
   ],
   "source": [
    "\n",
    "\n",
    "\n",
    "\n",
    "\n",
    "\n",
    "\n",
    "\n",
    "def density(self_1, self_2, prec):\n",
    "    density = vp.FunctionTree(self_1.mra,self_2.mra)\n",
    "    add_vector = []\n",
    "    for comp, func_1 in self_1.components.items():\n",
    "        if(func_1.squaredNorm() > 0):\n",
    "            temp_1 = vp.FunctionTree(self_1.mra)\n",
    "            temp_2 = vp.FunctionTree(self_2.mra)\n",
    "            vp.advanced.multiply(prec, temp_1, 1.0, temp_2, 1.0, func, func)\n",
    "            add_vector.append((1.0,temp))\n",
    "    vp.advanced.add(prec/10, density, add_vector)\n",
    "    return density       \n",
    "\n",
    "\n",
    "\n",
    "\n",
    "\n",
    "\n",
    "vp.FunctionTree(self.mra)\n",
    "        add_vector = []\n",
    "        for comp, func in self.components.items():\n",
    "            if(func.squaredNorm() > 0):\n",
    "                temp = vp.FunctionTree(self.mra)\n",
    "                vp.advanced.multiply(prec, temp, 1.0, func, func)\n",
    "                add_vector.append((1.0,temp))\n",
    "        vp.advanced.add(prec/10, density, add_vector)\n",
    "        return density   "
   ]
  },
  {
   "cell_type": "code",
   "execution_count": 8,
   "id": "9da51463-ddaa-4619-9ffa-a39b93e6d0bf",
   "metadata": {},
   "outputs": [
    {
     "ename": "TypeError",
     "evalue": "__init__(): incompatible constructor arguments. The following argument types are supported:\n    1. vampyr._vampyr.vampyr3d.FunctionTree(mra: mrcpp::MultiResolutionAnalysis<3>, name: str = 'nn')\n\nInvoked with: Type help() for interactive help, or help(object) for help about object.",
     "output_type": "error",
     "traceback": [
      "\u001b[0;31m---------------------------------------------------------------------------\u001b[0m",
      "\u001b[0;31mTypeError\u001b[0m                                 Traceback (most recent call last)",
      "Input \u001b[0;32mIn [8]\u001b[0m, in \u001b[0;36m<cell line: 1>\u001b[0;34m()\u001b[0m\n\u001b[0;32m----> 1\u001b[0m \u001b[43mvp\u001b[49m\u001b[38;5;241;43m.\u001b[39;49m\u001b[43mFunctionTree\u001b[49m\u001b[43m(\u001b[49m\u001b[43mhelp\u001b[49m\u001b[43m)\u001b[49m\n",
      "\u001b[0;31mTypeError\u001b[0m: __init__(): incompatible constructor arguments. The following argument types are supported:\n    1. vampyr._vampyr.vampyr3d.FunctionTree(mra: mrcpp::MultiResolutionAnalysis<3>, name: str = 'nn')\n\nInvoked with: Type help() for interactive help, or help(object) for help about object."
     ]
    }
   ],
   "source": [
    " vp.FunctionTree(help)"
   ]
  },
  {
   "cell_type": "code",
   "execution_count": 10,
   "id": "d653cc60-1bf9-41de-b403-38411e8f6583",
   "metadata": {},
   "outputs": [
    {
     "name": "stdout",
     "output_type": "stream",
     "text": [
      "Help on built-in function multiply in module vampyr._vampyr.vampyr3d.advanced:\n",
      "\n",
      "multiply(...) method of builtins.PyCapsule instance\n",
      "    multiply(*args, **kwargs)\n",
      "    Overloaded function.\n",
      "    \n",
      "    1. multiply(prec: float = -1.0, out: vampyr._vampyr.vampyr3d.FunctionTree, c: float = 1.0, inp_a: vampyr._vampyr.vampyr3d.FunctionTree, inp_b: vampyr._vampyr.vampyr3d.FunctionTree, max_iter: int = -1, abs_prec: bool = False, use_max_norms: bool = False) -> None\n",
      "    \n",
      "    2. multiply(prec: float = -1.0, out: vampyr._vampyr.vampyr3d.FunctionTree, inp: List[vampyr._vampyr.vampyr3d.FunctionTree], max_iter: int = -1, abs_prec: bool = False, use_max_norms: bool = False) -> None\n",
      "    \n",
      "    3. multiply(prec: float = -1.0, out: vampyr._vampyr.vampyr3d.FunctionTree, inp: List[Tuple[float, vampyr._vampyr.vampyr3d.FunctionTree]], max_iter: int = -1, abs_prec: bool = False, use_max_norms: bool = False) -> None\n",
      "\n"
     ]
    }
   ],
   "source": [
    "help(vp.advanced.multiply)"
   ]
  },
  {
   "cell_type": "code",
   "execution_count": 11,
   "id": "0d323549-c839-4245-9c74-03baa6d8dce2",
   "metadata": {},
   "outputs": [
    {
     "name": "stdout",
     "output_type": "stream",
     "text": [
      "Help on class FunctionTree in module vampyr._vampyr.vampyr3d:\n",
      "\n",
      "class FunctionTree(MWTree, RepresentableFunction)\n",
      " |  Method resolution order:\n",
      " |      FunctionTree\n",
      " |      MWTree\n",
      " |      RepresentableFunction\n",
      " |      pybind11_builtins.pybind11_object\n",
      " |      builtins.object\n",
      " |  \n",
      " |  Methods defined here:\n",
      " |  \n",
      " |  __add__(...)\n",
      " |      __add__(self: vampyr._vampyr.vampyr3d.FunctionTree, arg0: vampyr._vampyr.vampyr3d.FunctionTree) -> vampyr._vampyr.vampyr3d.FunctionTree\n",
      " |  \n",
      " |  __call__(...)\n",
      " |      __call__(self: vampyr._vampyr.vampyr3d.FunctionTree, arg0: List[float[3]]) -> float\n",
      " |  \n",
      " |  __iadd__(...)\n",
      " |      __iadd__(self: vampyr._vampyr.vampyr3d.FunctionTree, arg0: vampyr._vampyr.vampyr3d.FunctionTree) -> vampyr._vampyr.vampyr3d.FunctionTree\n",
      " |  \n",
      " |  __imul__(...)\n",
      " |      __imul__(*args, **kwargs)\n",
      " |      Overloaded function.\n",
      " |      \n",
      " |      1. __imul__(self: vampyr._vampyr.vampyr3d.FunctionTree, arg0: float) -> vampyr._vampyr.vampyr3d.FunctionTree\n",
      " |      \n",
      " |      2. __imul__(self: vampyr._vampyr.vampyr3d.FunctionTree, arg0: vampyr._vampyr.vampyr3d.FunctionTree) -> vampyr._vampyr.vampyr3d.FunctionTree\n",
      " |  \n",
      " |  __init__(...)\n",
      " |      __init__(self: vampyr._vampyr.vampyr3d.FunctionTree, mra: mrcpp::MultiResolutionAnalysis<3>, name: str = 'nn') -> None\n",
      " |  \n",
      " |  __ipow__(...)\n",
      " |      __ipow__(self: vampyr._vampyr.vampyr3d.FunctionTree, arg0: float) -> vampyr._vampyr.vampyr3d.FunctionTree\n",
      " |  \n",
      " |  __isub__(...)\n",
      " |      __isub__(self: vampyr._vampyr.vampyr3d.FunctionTree, arg0: vampyr._vampyr.vampyr3d.FunctionTree) -> vampyr._vampyr.vampyr3d.FunctionTree\n",
      " |  \n",
      " |  __itruediv__(...)\n",
      " |      __itruediv__(self: vampyr._vampyr.vampyr3d.FunctionTree, arg0: float) -> vampyr._vampyr.vampyr3d.FunctionTree\n",
      " |  \n",
      " |  __mul__(...)\n",
      " |      __mul__(*args, **kwargs)\n",
      " |      Overloaded function.\n",
      " |      \n",
      " |      1. __mul__(self: vampyr._vampyr.vampyr3d.FunctionTree, arg0: float) -> vampyr._vampyr.vampyr3d.FunctionTree\n",
      " |      \n",
      " |      2. __mul__(self: vampyr._vampyr.vampyr3d.FunctionTree, arg0: vampyr._vampyr.vampyr3d.FunctionTree) -> vampyr._vampyr.vampyr3d.FunctionTree\n",
      " |  \n",
      " |  __neg__(...)\n",
      " |      __neg__(self: vampyr._vampyr.vampyr3d.FunctionTree) -> vampyr._vampyr.vampyr3d.FunctionTree\n",
      " |  \n",
      " |  __pos__(...)\n",
      " |      __pos__(self: vampyr._vampyr.vampyr3d.FunctionTree) -> vampyr._vampyr.vampyr3d.FunctionTree\n",
      " |  \n",
      " |  __pow__(...)\n",
      " |      __pow__(self: vampyr._vampyr.vampyr3d.FunctionTree, arg0: float) -> vampyr._vampyr.vampyr3d.FunctionTree\n",
      " |  \n",
      " |  __rmul__(...)\n",
      " |      __rmul__(self: vampyr._vampyr.vampyr3d.FunctionTree, arg0: float) -> vampyr._vampyr.vampyr3d.FunctionTree\n",
      " |  \n",
      " |  __sub__(...)\n",
      " |      __sub__(self: vampyr._vampyr.vampyr3d.FunctionTree, arg0: vampyr._vampyr.vampyr3d.FunctionTree) -> vampyr._vampyr.vampyr3d.FunctionTree\n",
      " |  \n",
      " |  __truediv__(...)\n",
      " |      __truediv__(self: vampyr._vampyr.vampyr3d.FunctionTree, arg0: float) -> vampyr._vampyr.vampyr3d.FunctionTree\n",
      " |  \n",
      " |  crop(...)\n",
      " |      crop(self: vampyr._vampyr.vampyr3d.FunctionTree, prec: float, abs_prec: bool = False) -> vampyr._vampyr.vampyr3d.FunctionTree\n",
      " |  \n",
      " |  deepCopy(...)\n",
      " |      deepCopy(self: vampyr._vampyr.vampyr3d.FunctionTree) -> vampyr._vampyr.vampyr3d.FunctionTree\n",
      " |  \n",
      " |  deleteGenerated(...)\n",
      " |      deleteGenerated(self: vampyr._vampyr.vampyr3d.FunctionTree) -> None\n",
      " |  \n",
      " |  integrate(...)\n",
      " |      integrate(self: vampyr._vampyr.vampyr3d.FunctionTree) -> float\n",
      " |  \n",
      " |  loadTree(...)\n",
      " |      loadTree(self: vampyr._vampyr.vampyr3d.FunctionTree, filename: str) -> None\n",
      " |  \n",
      " |  nGenNodes(...)\n",
      " |      nGenNodes(self: vampyr._vampyr.vampyr3d.FunctionTree) -> int\n",
      " |  \n",
      " |  normalize(...)\n",
      " |      normalize(self: vampyr._vampyr.vampyr3d.FunctionTree) -> None\n",
      " |  \n",
      " |  saveTree(...)\n",
      " |      saveTree(self: vampyr._vampyr.vampyr3d.FunctionTree, filename: str) -> None\n",
      " |  \n",
      " |  ----------------------------------------------------------------------\n",
      " |  Methods inherited from MWTree:\n",
      " |  \n",
      " |  MRA(...)\n",
      " |      MRA(self: vampyr._vampyr.vampyr3d.MWTree) -> mrcpp::MultiResolutionAnalysis<3>\n",
      " |  \n",
      " |  __str__(...)\n",
      " |      __str__(self: vampyr._vampyr.vampyr3d.MWTree) -> str\n",
      " |  \n",
      " |  clear(...)\n",
      " |      clear(self: vampyr._vampyr.vampyr3d.MWTree) -> None\n",
      " |  \n",
      " |  depth(...)\n",
      " |      depth(self: vampyr._vampyr.vampyr3d.MWTree) -> int\n",
      " |  \n",
      " |  fetchEndNode(...)\n",
      " |      fetchEndNode(self: vampyr._vampyr.vampyr3d.MWTree, arg0: int) -> mrcpp::MWNode<3>\n",
      " |  \n",
      " |  fetchNode(...)\n",
      " |      fetchNode(self: vampyr._vampyr.vampyr3d.MWTree, arg0: mrcpp::NodeIndex<3>) -> mrcpp::MWNode<3>\n",
      " |  \n",
      " |  fetchRootNode(...)\n",
      " |      fetchRootNode(self: vampyr._vampyr.vampyr3d.MWTree, arg0: int) -> mrcpp::MWNode<3>\n",
      " |  \n",
      " |  nEndNodes(...)\n",
      " |      nEndNodes(self: vampyr._vampyr.vampyr3d.MWTree) -> int\n",
      " |  \n",
      " |  nNodes(...)\n",
      " |      nNodes(self: vampyr._vampyr.vampyr3d.MWTree) -> int\n",
      " |  \n",
      " |  nRootNodes(...)\n",
      " |      nRootNodes(self: vampyr._vampyr.vampyr3d.MWTree) -> int\n",
      " |  \n",
      " |  name(...)\n",
      " |      name(self: vampyr._vampyr.vampyr3d.MWTree) -> str\n",
      " |  \n",
      " |  norm(...)\n",
      " |      norm(self: vampyr._vampyr.vampyr3d.MWTree) -> float\n",
      " |  \n",
      " |  rootScale(...)\n",
      " |      rootScale(self: vampyr._vampyr.vampyr3d.MWTree) -> int\n",
      " |  \n",
      " |  setName(...)\n",
      " |      setName(self: vampyr._vampyr.vampyr3d.MWTree, arg0: str) -> None\n",
      " |  \n",
      " |  setZero(...)\n",
      " |      setZero(self: vampyr._vampyr.vampyr3d.MWTree) -> None\n",
      " |  \n",
      " |  squaredNorm(...)\n",
      " |      squaredNorm(self: vampyr._vampyr.vampyr3d.MWTree) -> float\n",
      " |  \n",
      " |  ----------------------------------------------------------------------\n",
      " |  Static methods inherited from pybind11_builtins.pybind11_object:\n",
      " |  \n",
      " |  __new__(*args, **kwargs) from pybind11_builtins.pybind11_type\n",
      " |      Create and return a new object.  See help(type) for accurate signature.\n",
      "\n"
     ]
    }
   ],
   "source": [
    "help(vp.FunctionTree)"
   ]
  },
  {
   "cell_type": "code",
   "execution_count": null,
   "id": "8448cdd7-d3ae-49ba-b8a2-b90a2c1093f7",
   "metadata": {},
   "outputs": [],
   "source": []
  }
 ],
 "metadata": {
  "kernelspec": {
   "display_name": "Python 3 (ipykernel)",
   "language": "python",
   "name": "python3"
  },
  "language_info": {
   "codemirror_mode": {
    "name": "ipython",
    "version": 3
   },
   "file_extension": ".py",
   "mimetype": "text/x-python",
   "name": "python",
   "nbconvert_exporter": "python",
   "pygments_lexer": "ipython3",
   "version": "3.10.4"
  }
 },
 "nbformat": 4,
 "nbformat_minor": 5
}
